{
 "cells": [
  {
   "cell_type": "code",
   "execution_count": 5,
   "metadata": {},
   "outputs": [],
   "source": [
    "import torch"
   ]
  },
  {
   "cell_type": "code",
   "execution_count": 6,
   "metadata": {},
   "outputs": [],
   "source": [
    "with open('../data/tinyshakespeare/input.txt','r',encoding='utf-8') as f:\n",
    "    text = f.read()"
   ]
  },
  {
   "cell_type": "code",
   "execution_count": 7,
   "metadata": {},
   "outputs": [
    {
     "name": "stdout",
     "output_type": "stream",
     "text": [
      "Total rows in text 1115394\n"
     ]
    }
   ],
   "source": [
    "print('Total rows in text',len(text))"
   ]
  },
  {
   "cell_type": "code",
   "execution_count": 8,
   "metadata": {},
   "outputs": [
    {
     "data": {
      "text/plain": [
       "\"First Citizen:\\nBefore we proceed any further, hear me speak.\\n\\nAll:\\nSpeak, speak.\\n\\nFirst Citizen:\\nYou are all resolved rather to die than to famish?\\n\\nAll:\\nResolved. resolved.\\n\\nFirst Citizen:\\nFirst, you know Caius Marcius is chief enemy to the people.\\n\\nAll:\\nWe know't, we know't.\\n\\nFirst Citizen:\\nLet us kill him, and we'll have corn at our own price.\\nIs't a verdict?\\n\\nAll:\\nNo more talking on't; let it be done: away, away!\\n\\nSecond Citizen:\\nOne word, good citizens.\\n\\nFirst Citizen:\\nWe are accounted poor citizens, the patricians good.\\nWhat authority surfeits on would relieve us: if they\\nwould yield us but the superfluity, while it were\\nwholesome, we might guess they relieved us humanely;\\nbut they think we are too dear: the leanness that\\nafflicts us, the object of our misery, is as an\\ninventory to particularise their abundance; our\\nsufferance is a gain to them Let us revenge this with\\nour pikes, ere we become rakes: for the gods know I\\nspeak this in hunger for bread, not in thirst for revenge.\\n\\n\""
      ]
     },
     "execution_count": 8,
     "metadata": {},
     "output_type": "execute_result"
    }
   ],
   "source": [
    "text[:1000]"
   ]
  },
  {
   "cell_type": "code",
   "execution_count": 9,
   "metadata": {},
   "outputs": [
    {
     "name": "stdout",
     "output_type": "stream",
     "text": [
      "chars are: \n",
      " !$&',-.3:;?ABCDEFGHIJKLMNOPQRSTUVWXYZabcdefghijklmnopqrstuvwxyz\n",
      "vocab_size is: 65\n"
     ]
    }
   ],
   "source": [
    "# build vocabulary table\n",
    "chars = sorted(list(set(text)))\n",
    "vocab_size = len(chars)\n",
    "print(f'chars are: {''.join(chars)}')\n",
    "print(f'vocab_size is: {vocab_size}')"
   ]
  },
  {
   "cell_type": "code",
   "execution_count": 10,
   "metadata": {},
   "outputs": [],
   "source": [
    "# build tokenizer\n",
    "itos ={i:ch for i,ch in enumerate(chars)}\n",
    "stoi ={ch:i for i,ch in enumerate(chars)}\n",
    "\n",
    "encode = lambda s:[stoi[c] for c in s]\n",
    "decode = lambda l:''.join([itos[i] for i in l])"
   ]
  },
  {
   "cell_type": "code",
   "execution_count": 11,
   "metadata": {},
   "outputs": [
    {
     "name": "stdout",
     "output_type": "stream",
     "text": [
      "hi there: hi there\n"
     ]
    }
   ],
   "source": [
    "print('hi there:',decode(encode('hi there')))"
   ]
  },
  {
   "cell_type": "code",
   "execution_count": 12,
   "metadata": {},
   "outputs": [
    {
     "name": "stdout",
     "output_type": "stream",
     "text": [
      "data shape and dtype are: torch.Size([1115394]) torch.int64\n",
      "tensor([18, 47, 56, 57, 58,  1, 15, 47, 58, 47])\n"
     ]
    }
   ],
   "source": [
    "data = torch.tensor(encode(text),dtype=torch.long)\n",
    "print(f'data shape and dtype are: {data.shape} {data.dtype}')\n",
    "print(data[:10])"
   ]
  },
  {
   "cell_type": "code",
   "execution_count": 13,
   "metadata": {},
   "outputs": [],
   "source": [
    "# 将数据分割成训练集和测试集\n",
    "n = int(len(data) * 0.9)\n",
    "train_data = data[:n]\n",
    "val_data = data[n:]"
   ]
  },
  {
   "cell_type": "code",
   "execution_count": 14,
   "metadata": {},
   "outputs": [
    {
     "data": {
      "text/plain": [
       "tensor([18, 47, 56, 57, 58,  1, 15, 47, 58])"
      ]
     },
     "execution_count": 14,
     "metadata": {},
     "output_type": "execute_result"
    }
   ],
   "source": [
    "# 上下文长度\n",
    "block_size = 8\n",
    "# 9个训练数据实际包含了8组训练数据\n",
    "train_data[:block_size+1]"
   ]
  },
  {
   "cell_type": "code",
   "execution_count": 15,
   "metadata": {},
   "outputs": [
    {
     "name": "stdout",
     "output_type": "stream",
     "text": [
      "when input sequence is tensor([18]), the target is 47\n",
      "when input sequence is tensor([18, 47]), the target is 56\n",
      "when input sequence is tensor([18, 47, 56]), the target is 57\n",
      "when input sequence is tensor([18, 47, 56, 57]), the target is 58\n",
      "when input sequence is tensor([18, 47, 56, 57, 58]), the target is 1\n",
      "when input sequence is tensor([18, 47, 56, 57, 58,  1]), the target is 15\n",
      "when input sequence is tensor([18, 47, 56, 57, 58,  1, 15]), the target is 47\n",
      "when input sequence is tensor([18, 47, 56, 57, 58,  1, 15, 47]), the target is 58\n"
     ]
    }
   ],
   "source": [
    "x = train_data[:block_size]\n",
    "y = train_data[1:block_size+1]\n",
    "for t in range(block_size):\n",
    "    context = x[:t+1]\n",
    "    target = y[t]\n",
    "    print(f'when input sequence is {context}, the target is {target}')"
   ]
  },
  {
   "cell_type": "code",
   "execution_count": 16,
   "metadata": {},
   "outputs": [],
   "source": [
    "# build batch，通过batch可以加速训练过程\n",
    "torch.manual_seed(1337)\n",
    "batch_size = 4\n",
    "block_size = 8\n",
    "\n",
    "def get_batch(split):\n",
    "    data = train_data if split == 'train' else val_data\n",
    "    ix = torch.randint(len(data)-block_size, (batch_size,))\n",
    "    x = torch.stack([data[i:i+block_size] for i in ix])\n",
    "    y = torch.stack([data[i+1:i+block_size+1] for i in ix])\n",
    "    return x, y"
   ]
  },
  {
   "cell_type": "code",
   "execution_count": 21,
   "metadata": {},
   "outputs": [
    {
     "name": "stdout",
     "output_type": "stream",
     "text": [
      "x is:tensor([[ 1, 39, 52, 42,  1, 45, 43, 50],\n",
      "        [ 1, 58, 46, 39, 58,  1, 42, 53],\n",
      "        [ 1, 61, 53, 59, 50, 42,  1, 21],\n",
      "        [59, 57, 40, 39, 52, 42,  1, 40]])\n",
      "y is:tensor([[39, 52, 42,  1, 45, 43, 50, 42],\n",
      "        [58, 46, 39, 58,  1, 42, 53,  1],\n",
      "        [61, 53, 59, 50, 42,  1, 21,  1],\n",
      "        [57, 40, 39, 52, 42,  1, 40, 47]])\n",
      "------------------------------\n",
      "when input sequence is tensor([1]), the target is 39\n",
      "when input sequence is tensor([ 1, 39]), the target is 52\n",
      "when input sequence is tensor([ 1, 39, 52]), the target is 42\n",
      "when input sequence is tensor([ 1, 39, 52, 42]), the target is 1\n",
      "when input sequence is tensor([ 1, 39, 52, 42,  1]), the target is 45\n",
      "when input sequence is tensor([ 1, 39, 52, 42,  1, 45]), the target is 43\n",
      "when input sequence is tensor([ 1, 39, 52, 42,  1, 45, 43]), the target is 50\n",
      "when input sequence is tensor([ 1, 39, 52, 42,  1, 45, 43, 50]), the target is 42\n",
      "when input sequence is tensor([1]), the target is 58\n",
      "when input sequence is tensor([ 1, 58]), the target is 46\n",
      "when input sequence is tensor([ 1, 58, 46]), the target is 39\n",
      "when input sequence is tensor([ 1, 58, 46, 39]), the target is 58\n",
      "when input sequence is tensor([ 1, 58, 46, 39, 58]), the target is 1\n",
      "when input sequence is tensor([ 1, 58, 46, 39, 58,  1]), the target is 42\n",
      "when input sequence is tensor([ 1, 58, 46, 39, 58,  1, 42]), the target is 53\n",
      "when input sequence is tensor([ 1, 58, 46, 39, 58,  1, 42, 53]), the target is 1\n",
      "when input sequence is tensor([1]), the target is 61\n",
      "when input sequence is tensor([ 1, 61]), the target is 53\n",
      "when input sequence is tensor([ 1, 61, 53]), the target is 59\n",
      "when input sequence is tensor([ 1, 61, 53, 59]), the target is 50\n",
      "when input sequence is tensor([ 1, 61, 53, 59, 50]), the target is 42\n",
      "when input sequence is tensor([ 1, 61, 53, 59, 50, 42]), the target is 1\n",
      "when input sequence is tensor([ 1, 61, 53, 59, 50, 42,  1]), the target is 21\n",
      "when input sequence is tensor([ 1, 61, 53, 59, 50, 42,  1, 21]), the target is 1\n",
      "when input sequence is tensor([59]), the target is 57\n",
      "when input sequence is tensor([59, 57]), the target is 40\n",
      "when input sequence is tensor([59, 57, 40]), the target is 39\n",
      "when input sequence is tensor([59, 57, 40, 39]), the target is 52\n",
      "when input sequence is tensor([59, 57, 40, 39, 52]), the target is 42\n",
      "when input sequence is tensor([59, 57, 40, 39, 52, 42]), the target is 1\n",
      "when input sequence is tensor([59, 57, 40, 39, 52, 42,  1]), the target is 40\n",
      "when input sequence is tensor([59, 57, 40, 39, 52, 42,  1, 40]), the target is 47\n"
     ]
    }
   ],
   "source": [
    "x,y = get_batch('train')\n",
    "print(f'x is:{x}')\n",
    "print(f'y is:{y}')\n",
    "\n",
    "print('-'*30)\n",
    "for b in range(batch_size):\n",
    "    for t in range(block_size):\n",
    "        context = x[b][:t+1]\n",
    "        target = y[b][t]\n",
    "        print(f'when input sequence is {context}, the target is {target}')"
   ]
  },
  {
   "cell_type": "code",
   "execution_count": null,
   "metadata": {},
   "outputs": [],
   "source": []
  }
 ],
 "metadata": {
  "kernelspec": {
   "display_name": "Python 3",
   "language": "python",
   "name": "python3"
  },
  "language_info": {
   "codemirror_mode": {
    "name": "ipython",
    "version": 3
   },
   "file_extension": ".py",
   "mimetype": "text/x-python",
   "name": "python",
   "nbconvert_exporter": "python",
   "pygments_lexer": "ipython3",
   "version": "3.12.4"
  }
 },
 "nbformat": 4,
 "nbformat_minor": 2
}
